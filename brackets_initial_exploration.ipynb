{
  "cells": [
    {
      "cell_type": "markdown",
      "source": [
        "# Brackets Data Exploration\n",
        "The goal of this notebook is to identify key points in the current Brackets analytics logs to track an identify usage patterns\n"
      ],
      "metadata": {
        "id": "QP5CQRfxdzyB"
      },
      "id": "QP5CQRfxdzyB"
    },
    {
      "cell_type": "code",
      "execution_count": 1,
      "id": "61c57b0e",
      "metadata": {
        "id": "61c57b0e"
      },
      "outputs": [],
      "source": [
        "import json\n",
        "import datetime\n",
        "from collections import Counter\n",
        "import requests\n",
        "import os\n",
        "import matplotlib.pyplot as plt\n",
        "import numpy as np"
      ]
    },
    {
      "cell_type": "markdown",
      "source": [
        "## Loading the Data \n",
        "There are 15,311 log files that we need to analyze. We will check only the first 1,000 files."
      ],
      "metadata": {
        "id": "Z-Hm7HbHeyl5"
      },
      "id": "Z-Hm7HbHeyl5"
    },
    {
      "cell_type": "code",
      "source": [
        "%%capture\n",
        "!gdown 1Gjldh5ThKTG89BwmLMbXgfcR2RWUHjwq\n",
        "!unzip Copy\\ of\\ brackets.zip"
      ],
      "metadata": {
        "id": "MNLyPyYo9D7I"
      },
      "id": "MNLyPyYo9D7I",
      "execution_count": 2,
      "outputs": []
    },
    {
      "cell_type": "code",
      "source": [
        "len(os.listdir('./brackets'))"
      ],
      "metadata": {
        "colab": {
          "base_uri": "https://localhost:8080/"
        },
        "id": "hqpS6JLjAQSe",
        "outputId": "b58d7c1c-bc32-4efb-8aa1-23051a5ff5db"
      },
      "id": "hqpS6JLjAQSe",
      "execution_count": 3,
      "outputs": [
        {
          "output_type": "execute_result",
          "data": {
            "text/plain": [
              "15311"
            ]
          },
          "metadata": {},
          "execution_count": 3
        }
      ]
    },
    {
      "cell_type": "code",
      "source": [
        "path = './brackets/'\n",
        "c_data = []\n",
        "for filepath in os.listdir(path)[:1000]:\n",
        "  with open(path+filepath) as f:\n",
        "    data = json.load(f)\n",
        "    c_data.extend(data['clientAnalytics'][:-1])"
      ],
      "metadata": {
        "id": "3FH3eq-w-Y2T"
      },
      "id": "3FH3eq-w-Y2T",
      "execution_count": 4,
      "outputs": []
    },
    {
      "cell_type": "code",
      "execution_count": 5,
      "id": "2d84bce7",
      "metadata": {
        "id": "2d84bce7",
        "outputId": "967a60d4-d27a-44c4-a750-6542277e5ed6",
        "colab": {
          "base_uri": "https://localhost:8080/"
        }
      },
      "outputs": [
        {
          "output_type": "execute_result",
          "data": {
            "text/plain": [
              "524358"
            ]
          },
          "metadata": {},
          "execution_count": 5
        }
      ],
      "source": [
        "len(c_data)"
      ]
    },
    {
      "cell_type": "code",
      "execution_count": 6,
      "id": "bb1b0683",
      "metadata": {
        "id": "bb1b0683",
        "outputId": "2101b203-0779-407d-f14c-3b4b035b44aa",
        "colab": {
          "base_uri": "https://localhost:8080/"
        }
      },
      "outputs": [
        {
          "output_type": "execute_result",
          "data": {
            "text/plain": [
              "dict_keys(['schemaVersion', 'accountID', 'appName', 'uuid', 'sessionID', 'unixTimestampUTC', 'numEventsTotal', 'events', 'geolocation'])"
            ]
          },
          "metadata": {},
          "execution_count": 6
        }
      ],
      "source": [
        "c_data[0].keys()"
      ]
    },
    {
      "cell_type": "markdown",
      "source": [
        "There are 524,358 client records in the 1000 log files. Each client records contains a unique identifier (uuid) and their geolocation (geolocation), the time the log was recorded (unixTimestampUTC), the number of events that were recorded (numEventsTotal), and a list of the events that took place."
      ],
      "metadata": {
        "id": "Iyy39f5bfJxU"
      },
      "id": "Iyy39f5bfJxU"
    },
    {
      "cell_type": "markdown",
      "source": [
        "## Data samples"
      ],
      "metadata": {
        "id": "GXPLO1bjhge5"
      },
      "id": "GXPLO1bjhge5"
    },
    {
      "cell_type": "code",
      "source": [
        "c_data[72]"
      ],
      "metadata": {
        "colab": {
          "base_uri": "https://localhost:8080/"
        },
        "id": "dKABg-waDU4d",
        "outputId": "6717406f-4733-4bc2-a141-8659e2f06156"
      },
      "id": "dKABg-waDU4d",
      "execution_count": 7,
      "outputs": [
        {
          "output_type": "execute_result",
          "data": {
            "text/plain": [
              "{'schemaVersion': 1,\n",
              " 'accountID': 'brackets',\n",
              " 'appName': 'brackets-prod',\n",
              " 'uuid': '857db5d5-0b8c-4ea5-8f93-38f1a46c0047',\n",
              " 'sessionID': 'b66pdzbp6e',\n",
              " 'unixTimestampUTC': 1658940286268,\n",
              " 'numEventsTotal': 25,\n",
              " 'events': {'usage': {'fileOpen': {'html': {'time': [0], 'valueCount': [1]}}},\n",
              "  'core-analytics': {'client-lib': {'loadTime': {'time': [0],\n",
              "     'valueCount': [{'1432': 1}]}}},\n",
              "  'PLATFORM': {'os': {'mac': {'time': [0], 'valueCount': [1]}},\n",
              "   'osLanguage': {'pl-PL': {'time': [0], 'valueCount': [1]}},\n",
              "   'bracketsLanguage': {'pl-PL': {'time': [0], 'valueCount': [1]}},\n",
              "   'bracketsVersion': {'2.1.2-17937': {'time': [0], 'valueCount': [1]}},\n",
              "   'AppStartupTime': {'AppStartupTime': {'time': [0], 'valueCount': [1]}},\n",
              "   'ModuleDepsResolved': {'ModuleDepsResolved': {'time': [0],\n",
              "     'valueCount': [1789]}}},\n",
              "  'PROJECT': {'numFiles': {'numFiles': {'time': [0], 'valueCount': [3]}},\n",
              "   'cacheSize': {'cacheSize': {'time': [0], 'valueCount': [41344]}},\n",
              "   'numProjectsOpened': {'numProjectsOpened': {'time': [0],\n",
              "     'valueCount': [1]}},\n",
              "   'ACTION_PROJECT_LOAD_TIME': {'ACTION_PROJECT_LOAD_TIME': {'time': [0],\n",
              "     'valueCount': [0]}}},\n",
              "  'FILE_STATS': {'openedFileExt': {'html': {'time': [0], 'valueCount': [9]}},\n",
              "   'workingSetFileExt': {'html': {'time': [0], 'valueCount': [6]}},\n",
              "   'openedFileEncoding': {'UTF-8': {'time': [0], 'valueCount': [9]}}},\n",
              "  'searchDetails': {'searchNew': {'searchNew': {'time': [0],\n",
              "     'valueCount': [0]}},\n",
              "   'searchInstant': {'searchInstant': {'time': [0], 'valueCount': [0]}}},\n",
              "  'THEMES': {'bracketsTheme': {'nebuleuse-theme': {'time': [0],\n",
              "     'valueCount': [1]}}},\n",
              "  'installedExtensions': {'nebuleuse-theme': {'1.0.0': {'time': [0],\n",
              "     'valueCount': [1]}},\n",
              "   'vscode-dark': {'0.9.1': {'time': [0], 'valueCount': [1]}},\n",
              "   'thizer.phpcompletion': {'1.1.7': {'time': [0], 'valueCount': [1]}},\n",
              "   'brackets-php-syntax-hint': {'1.1.6': {'time': [0], 'valueCount': [1]}},\n",
              "   'brackets-php-beautify': {'0.1.1': {'time': [0], 'valueCount': [1]}},\n",
              "   'hirse.brackets-prettier': {'1.2.0': {'time': [0], 'valueCount': [1]}}},\n",
              "  'EXTENSIONS': {'numExtensions': {'numExtensions': {'time': [0],\n",
              "     'valueCount': [6]}}}},\n",
              " 'geolocation': {'continent': 'Europe',\n",
              "  'country': 'Poland',\n",
              "  'city': 'Zduńska Wola'}}"
            ]
          },
          "metadata": {},
          "execution_count": 7
        }
      ]
    },
    {
      "cell_type": "markdown",
      "source": [
        "This is a user from Poland. Here we see some things about his platform (mac), some of his usage (fileOpen), and other events."
      ],
      "metadata": {
        "id": "NW5LBkMxhzQo"
      },
      "id": "NW5LBkMxhzQo"
    },
    {
      "cell_type": "code",
      "source": [
        "c_data[528]"
      ],
      "metadata": {
        "colab": {
          "base_uri": "https://localhost:8080/"
        },
        "id": "dOMbO3v0hpwo",
        "outputId": "a1490e94-6a58-4661-8095-6274236cf27c"
      },
      "id": "dOMbO3v0hpwo",
      "execution_count": 8,
      "outputs": [
        {
          "output_type": "execute_result",
          "data": {
            "text/plain": [
              "{'schemaVersion': 1,\n",
              " 'accountID': 'brackets',\n",
              " 'appName': 'brackets-prod',\n",
              " 'uuid': '6d0d5c60-10ab-4412-b386-90bf2ff1bdb9',\n",
              " 'sessionID': '5ldltnrpcd',\n",
              " 'unixTimestampUTC': 1665801863814,\n",
              " 'numEventsTotal': 2,\n",
              " 'events': {'usage': {'fileSave': {'html': {'time': [3], 'valueCount': [1]}},\n",
              "   'livePreview': {'open': {'time': [6], 'valueCount': [1]}}}},\n",
              " 'geolocation': {'continent': 'Asia', 'country': 'Japan', 'city': 'Chiyoda'}}"
            ]
          },
          "metadata": {},
          "execution_count": 8
        }
      ]
    },
    {
      "cell_type": "markdown",
      "source": [
        "This is a user from Japan. Here only his usage events, (fileSave and livePreview), were recorded."
      ],
      "metadata": {
        "id": "8ImwC5RLigP_"
      },
      "id": "8ImwC5RLigP_"
    },
    {
      "cell_type": "markdown",
      "source": [
        "## Count analysis\n",
        "Now we want to find what and how many types of events there are and hone in to some of the more interesting ones. We preidentified 'usage' to be an event of interest"
      ],
      "metadata": {
        "id": "5DDyn8FWgWTI"
      },
      "id": "5DDyn8FWgWTI"
    },
    {
      "cell_type": "code",
      "execution_count": 9,
      "id": "3cc1191c",
      "metadata": {
        "id": "3cc1191c"
      },
      "outputs": [],
      "source": [
        "event_types = Counter()\n",
        "usage_types = Counter()\n",
        "os_types = Counter()\n",
        "uuids = Counter()\n",
        "\n",
        "for client in c_data:\n",
        "    events = client.get('events', {'None':None})\n",
        "    event_types.update(events.keys())\n",
        "    uuids.update([client['uuid']])\n",
        "\n",
        "\n",
        "    if 'usage' in events.keys():\n",
        "        usage_types.update(events['usage'].keys())\n",
        "    if 'PLATFORM' in events.keys():\n",
        "        os_types.update(events['PLATFORM']['os'].keys())"
      ]
    },
    {
      "cell_type": "markdown",
      "source": [
        "### Users"
      ],
      "metadata": {
        "id": "u3-bzwaogxsx"
      },
      "id": "u3-bzwaogxsx"
    },
    {
      "cell_type": "code",
      "source": [
        "uuids.most_common(10)"
      ],
      "metadata": {
        "colab": {
          "base_uri": "https://localhost:8080/"
        },
        "id": "nF0uyHdz95Tp",
        "outputId": "de7af965-4cbf-487a-d4f1-d47832f6a5a0"
      },
      "id": "nF0uyHdz95Tp",
      "execution_count": 10,
      "outputs": [
        {
          "output_type": "execute_result",
          "data": {
            "text/plain": [
              "[('ec0cf5d0-0a90-4ec5-a3f8-37c658c245f9', 351),\n",
              " ('329ec3bc-e27f-437a-8c88-be65a1be4b6d', 318),\n",
              " ('a39afb12-991a-4f45-a882-58d531351ddd', 292),\n",
              " ('e2d0feb6-dca1-4705-854c-5f165484b58b', 291),\n",
              " ('03fe9fd3-6b68-4e26-8127-54f417f94b59', 274),\n",
              " ('dc8d5e83-6a7d-47a3-8450-2035fd4807fb', 244),\n",
              " ('408bca79-9a4f-4976-9785-c4f621e9ee72', 218),\n",
              " ('d5b91bc6-a064-4df8-b797-adbd2c237a4f', 209),\n",
              " ('f1d96cd3-dab9-40b1-9582-d228624fad40', 204),\n",
              " ('28a7acb1-8211-4035-8383-11da918513c1', 202)]"
            ]
          },
          "metadata": {},
          "execution_count": 10
        }
      ]
    },
    {
      "cell_type": "code",
      "source": [
        "len(uuids)"
      ],
      "metadata": {
        "colab": {
          "base_uri": "https://localhost:8080/"
        },
        "id": "FCxqQIWpjUYo",
        "outputId": "eff4dca2-8724-475c-f13e-baf6fdb53f45"
      },
      "id": "FCxqQIWpjUYo",
      "execution_count": 11,
      "outputs": [
        {
          "output_type": "execute_result",
          "data": {
            "text/plain": [
              "107509"
            ]
          },
          "metadata": {},
          "execution_count": 11
        }
      ]
    },
    {
      "cell_type": "markdown",
      "source": [
        "From the 524,358 client records, we only saw 107,509 unique uuids. This means most records are from repeat users."
      ],
      "metadata": {
        "id": "5K9rtvL4g1II"
      },
      "id": "5K9rtvL4g1II"
    },
    {
      "cell_type": "markdown",
      "source": [
        "### Events"
      ],
      "metadata": {
        "id": "1pjOvzLrhIbY"
      },
      "id": "1pjOvzLrhIbY"
    },
    {
      "cell_type": "code",
      "execution_count": 12,
      "id": "ed5e70ac",
      "metadata": {
        "id": "ed5e70ac",
        "outputId": "2d193826-b77a-414a-e2d3-05e02d567687",
        "colab": {
          "base_uri": "https://localhost:8080/"
        }
      },
      "outputs": [
        {
          "output_type": "execute_result",
          "data": {
            "text/plain": [
              "Counter({'PLATFORM': 81573,\n",
              "         'PROJECT': 81568,\n",
              "         'searchDetails': 81568,\n",
              "         'THEMES': 81568,\n",
              "         'EXTENSIONS': 81568,\n",
              "         'FILE_STATS': 57549,\n",
              "         'usage': 403834,\n",
              "         'core-analytics': 143606,\n",
              "         'installedExtensions': 27270,\n",
              "         'navbar': 8454})"
            ]
          },
          "metadata": {},
          "execution_count": 12
        }
      ],
      "source": [
        "event_types"
      ]
    },
    {
      "cell_type": "code",
      "execution_count": 13,
      "id": "3179e912",
      "metadata": {
        "scrolled": false,
        "id": "3179e912",
        "outputId": "10038632-5420-42a6-91f8-6e52080d99db",
        "colab": {
          "base_uri": "https://localhost:8080/"
        }
      },
      "outputs": [
        {
          "output_type": "execute_result",
          "data": {
            "text/plain": [
              "Counter({'fileOpen': 205194,\n",
              "         'fileSave': 117458,\n",
              "         'fileClose': 54642,\n",
              "         'languageChange': 4200,\n",
              "         'livePreview': 42951,\n",
              "         'quickEdit': 1991,\n",
              "         'projectSettings': 864,\n",
              "         'languageServerProtocol': 1645,\n",
              "         'externalEditors': 6971,\n",
              "         'multiCursor': 9872,\n",
              "         'jsRefactor': 137,\n",
              "         'quickDoc': 550})"
            ]
          },
          "metadata": {},
          "execution_count": 13
        }
      ],
      "source": [
        "usage_types"
      ]
    },
    {
      "cell_type": "markdown",
      "source": [
        "### Platform"
      ],
      "metadata": {
        "id": "7XqXoFTzj2JB"
      },
      "id": "7XqXoFTzj2JB"
    },
    {
      "cell_type": "code",
      "execution_count": 14,
      "id": "a3d8f513",
      "metadata": {
        "id": "a3d8f513",
        "outputId": "e43a464a-96c1-4661-c053-302d19e611af",
        "colab": {
          "base_uri": "https://localhost:8080/"
        }
      },
      "outputs": [
        {
          "output_type": "execute_result",
          "data": {
            "text/plain": [
              "Counter({'mac': 28956, 'win': 52617})"
            ]
          },
          "metadata": {},
          "execution_count": 14
        }
      ],
      "source": [
        "os_types"
      ]
    },
    {
      "cell_type": "code",
      "source": [
        "sum(os_types.values())"
      ],
      "metadata": {
        "colab": {
          "base_uri": "https://localhost:8080/"
        },
        "id": "mtN39luSi8sy",
        "outputId": "e1eb340c-41b5-4440-bfde-b83968b091bc"
      },
      "id": "mtN39luSi8sy",
      "execution_count": 15,
      "outputs": [
        {
          "output_type": "execute_result",
          "data": {
            "text/plain": [
              "81573"
            ]
          },
          "metadata": {},
          "execution_count": 15
        }
      ]
    },
    {
      "cell_type": "markdown",
      "source": [
        "Against 107,509 uuids, and assuming that the 81,573 are one-to-one for a uuid, then some uuids are missing a platform. "
      ],
      "metadata": {
        "id": "xlYMZtZmjzUB"
      },
      "id": "xlYMZtZmjzUB"
    },
    {
      "cell_type": "markdown",
      "source": [
        "## Timestamps"
      ],
      "metadata": {
        "id": "v4HgM4zbkX2-"
      },
      "id": "v4HgM4zbkX2-"
    },
    {
      "cell_type": "code",
      "source": [
        "timestamps = [c['unixTimestampUTC'] for c in c_data]"
      ],
      "metadata": {
        "id": "UpyG5OwE9lca"
      },
      "id": "UpyG5OwE9lca",
      "execution_count": 16,
      "outputs": []
    },
    {
      "cell_type": "code",
      "source": [
        "datetime.datetime.fromtimestamp(min(timestamps)/1000)"
      ],
      "metadata": {
        "colab": {
          "base_uri": "https://localhost:8080/"
        },
        "id": "OHazTokA-FHq",
        "outputId": "4f9c7863-8bcb-4e6d-be6f-a7cde9b25da4"
      },
      "id": "OHazTokA-FHq",
      "execution_count": 17,
      "outputs": [
        {
          "output_type": "execute_result",
          "data": {
            "text/plain": [
              "datetime.datetime(1970, 1, 13, 12, 38, 28, 848000)"
            ]
          },
          "metadata": {},
          "execution_count": 17
        }
      ]
    },
    {
      "cell_type": "code",
      "source": [
        "datetime.datetime.fromtimestamp(max(timestamps)/1000)"
      ],
      "metadata": {
        "colab": {
          "base_uri": "https://localhost:8080/"
        },
        "id": "vqifEOxp-Hab",
        "outputId": "ef015866-db74-445e-b23f-a758a59d3090"
      },
      "id": "vqifEOxp-Hab",
      "execution_count": 18,
      "outputs": [
        {
          "output_type": "execute_result",
          "data": {
            "text/plain": [
              "datetime.datetime(2022, 11, 21, 11, 43, 26, 296000)"
            ]
          },
          "metadata": {},
          "execution_count": 18
        }
      ]
    },
    {
      "cell_type": "markdown",
      "source": [
        "A timestamp of less than year 2014 or 2021 is erroenous, since Brackets was first released in 2014 and became a community project in 2021. We will have to clean records."
      ],
      "metadata": {
        "id": "3dkTm025kZ5Y"
      },
      "id": "3dkTm025kZ5Y"
    },
    {
      "cell_type": "code",
      "source": [
        "err = [t for t in timestamps if t<1635984000000] # Nov 4, 2021 in ms since epoch\n",
        "err"
      ],
      "metadata": {
        "colab": {
          "base_uri": "https://localhost:8080/"
        },
        "id": "uVtQq_ZzkryH",
        "outputId": "f2627338-b1e9-4276-a5f7-02eef1d0bb3b"
      },
      "id": "uVtQq_ZzkryH",
      "execution_count": 19,
      "outputs": [
        {
          "output_type": "execute_result",
          "data": {
            "text/plain": [
              "[1082308848,\n",
              " 1230760983934,\n",
              " 1230760923920,\n",
              " 1273032174652,\n",
              " 1273036194655,\n",
              " 1273032354655,\n",
              " 1262315084839]"
            ]
          },
          "metadata": {},
          "execution_count": 19
        }
      ]
    },
    {
      "cell_type": "code",
      "source": [
        "timestamps = [datetime.datetime.fromtimestamp(t/1000) for t in timestamps if t not in err]"
      ],
      "metadata": {
        "id": "-Bzr-Ab1l9EY"
      },
      "id": "-Bzr-Ab1l9EY",
      "execution_count": 20,
      "outputs": []
    },
    {
      "cell_type": "code",
      "source": [
        "plt.hist(np.asarray(timestamps))\n",
        "plt.xticks(rotation=45)"
      ],
      "metadata": {
        "colab": {
          "base_uri": "https://localhost:8080/",
          "height": 344
        },
        "id": "BPD9fHUumU_W",
        "outputId": "984a5f6f-c0c4-4243-8e2c-d93f50fe026f"
      },
      "id": "BPD9fHUumU_W",
      "execution_count": 21,
      "outputs": [
        {
          "output_type": "execute_result",
          "data": {
            "text/plain": [
              "(array([738156., 738187., 738215., 738246., 738276., 738307., 738337.,\n",
              "        738368., 738399., 738429., 738460., 738490.]),\n",
              " <a list of 12 Text major ticklabel objects>)"
            ]
          },
          "metadata": {},
          "execution_count": 21
        },
        {
          "output_type": "display_data",
          "data": {
            "text/plain": [
              "<Figure size 432x288 with 1 Axes>"
            ],
            "image/png": "[encoded data removed]"
          },
          "metadata": {
            "needs_background": "light"
          }
        }
      ]
    }
  ],
  "metadata": {
    "kernelspec": {
      "display_name": "Python 3 (ipykernel)",
      "language": "python",
      "name": "python3"
    },
    "language_info": {
      "codemirror_mode": {
        "name": "ipython",
        "version": 3
      },
      "file_extension": ".py",
      "mimetype": "text/x-python",
      "name": "python",
      "nbconvert_exporter": "python",
      "pygments_lexer": "ipython3",
      "version": "3.8.13"
    },
    "colab": {
      "provenance": []
    }
  },
  "nbformat": 4,
  "nbformat_minor": 5
}